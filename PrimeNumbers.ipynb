{
 "cells": [
  {
   "cell_type": "code",
   "execution_count": null,
   "metadata": {},
   "outputs": [],
   "source": [
    "#Finding 9,991st to 10,000th prime numbrs"
   ]
  },
  {
   "cell_type": "code",
   "execution_count": 1,
   "metadata": {},
   "outputs": [
    {
     "name": "stdout",
     "output_type": "stream",
     "text": [
      "104677\n",
      "104681\n",
      "104683\n",
      "104693\n",
      "104701\n",
      "104707\n",
      "104711\n",
      "104717\n",
      "104723\n",
      "104729\n"
     ]
    }
   ],
   "source": [
    "count = 0\n",
    "primeText = 0\n",
    "primeFile = open(\"prime.txt\", \"w\")\n",
    "\n",
    "#while loop to find prime numbers and checking if prime number is greater than 9990 to start writing to file\n",
    "while (primeText <= 10001):\n",
    "    for i in range(2, count):\n",
    "        if (count % i == 0):\n",
    "            #print(\"not prime\")\n",
    "            count += 1\n",
    "            break    \n",
    "    else:\n",
    "        if (primeText > 9991):\n",
    "            print(count)\n",
    "            primeFile.write(str(count) + \"\\n\")\n",
    "            primeText += 1\n",
    "            count += 1\n",
    "            continue\n",
    "        else:\n",
    "            count += 1\n",
    "            primeText += 1\n",
    "            continue          \n",
    "        \n",
    "primeFile.close()\n",
    "        "
   ]
  },
  {
   "cell_type": "code",
   "execution_count": null,
   "metadata": {},
   "outputs": [],
   "source": []
  },
  {
   "cell_type": "code",
   "execution_count": null,
   "metadata": {},
   "outputs": [],
   "source": []
  }
 ],
 "metadata": {
  "kernelspec": {
   "display_name": "Python 3",
   "language": "python",
   "name": "python3"
  },
  "language_info": {
   "codemirror_mode": {
    "name": "ipython",
    "version": 3
   },
   "file_extension": ".py",
   "mimetype": "text/x-python",
   "name": "python",
   "nbconvert_exporter": "python",
   "pygments_lexer": "ipython3",
   "version": "3.7.6"
  }
 },
 "nbformat": 4,
 "nbformat_minor": 4
}
